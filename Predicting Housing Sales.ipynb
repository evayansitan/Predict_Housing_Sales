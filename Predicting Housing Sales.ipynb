{
 "cells": [
  {
   "cell_type": "markdown",
   "metadata": {},
   "source": [
    "The dataset is housing data for the city of Ames, Iowa, United States from 2006 to 2010. \n",
    "The goal is to build a linear regression model to predict sale price with given features such as living space area,\n",
    "garage area, house style."
   ]
  },
  {
   "cell_type": "markdown",
   "metadata": {},
   "source": [
    "# Step1: Import Libs and Data"
   ]
  },
  {
   "cell_type": "code",
   "execution_count": 1,
   "metadata": {},
   "outputs": [],
   "source": [
    "import pandas as pd\n",
    "import matplotlib.pyplot as plt\n",
    "from sklearn.linear_model import LinearRegression\n",
    "from sklearn.metrics import mean_squared_error\n",
    "import numpy as np\n",
    "import seaborn as sns\n",
    "from sklearn.model_selection import cross_val_score, KFold\n",
    "%matplotlib inline"
   ]
  },
  {
   "cell_type": "code",
   "execution_count": 2,
   "metadata": {},
   "outputs": [
    {
     "name": "stdout",
     "output_type": "stream",
     "text": [
      "(2930, 82) Index(['Order', 'PID', 'MS SubClass', 'MS Zoning', 'Lot Frontage', 'Lot Area',\n",
      "       'Street', 'Alley', 'Lot Shape', 'Land Contour', 'Utilities',\n",
      "       'Lot Config', 'Land Slope', 'Neighborhood', 'Condition 1',\n",
      "       'Condition 2', 'Bldg Type', 'House Style', 'Overall Qual',\n",
      "       'Overall Cond', 'Year Built', 'Year Remod/Add', 'Roof Style',\n",
      "       'Roof Matl', 'Exterior 1st', 'Exterior 2nd', 'Mas Vnr Type',\n",
      "       'Mas Vnr Area', 'Exter Qual', 'Exter Cond', 'Foundation', 'Bsmt Qual',\n",
      "       'Bsmt Cond', 'Bsmt Exposure', 'BsmtFin Type 1', 'BsmtFin SF 1',\n",
      "       'BsmtFin Type 2', 'BsmtFin SF 2', 'Bsmt Unf SF', 'Total Bsmt SF',\n",
      "       'Heating', 'Heating QC', 'Central Air', 'Electrical', '1st Flr SF',\n",
      "       '2nd Flr SF', 'Low Qual Fin SF', 'Gr Liv Area', 'Bsmt Full Bath',\n",
      "       'Bsmt Half Bath', 'Full Bath', 'Half Bath', 'Bedroom AbvGr',\n",
      "       'Kitchen AbvGr', 'Kitchen Qual', 'TotRms AbvGrd', 'Functional',\n",
      "       'Fireplaces', 'Fireplace Qu', 'Garage Type', 'Garage Yr Blt',\n",
      "       'Garage Finish', 'Garage Cars', 'Garage Area', 'Garage Qual',\n",
      "       'Garage Cond', 'Paved Drive', 'Wood Deck SF', 'Open Porch SF',\n",
      "       'Enclosed Porch', '3Ssn Porch', 'Screen Porch', 'Pool Area', 'Pool QC',\n",
      "       'Fence', 'Misc Feature', 'Misc Val', 'Mo Sold', 'Yr Sold', 'Sale Type',\n",
      "       'Sale Condition', 'SalePrice'],\n",
      "      dtype='object')\n",
      "   Order        PID  MS SubClass MS Zoning  Lot Frontage  Lot Area Street  \\\n",
      "0      1  526301100           20        RL         141.0     31770   Pave   \n",
      "1      2  526350040           20        RH          80.0     11622   Pave   \n",
      "2      3  526351010           20        RL          81.0     14267   Pave   \n",
      "3      4  526353030           20        RL          93.0     11160   Pave   \n",
      "4      5  527105010           60        RL          74.0     13830   Pave   \n",
      "\n",
      "  Alley Lot Shape Land Contour  ... Pool Area Pool QC  Fence Misc Feature  \\\n",
      "0   NaN       IR1          Lvl  ...         0     NaN    NaN          NaN   \n",
      "1   NaN       Reg          Lvl  ...         0     NaN  MnPrv          NaN   \n",
      "2   NaN       IR1          Lvl  ...         0     NaN    NaN         Gar2   \n",
      "3   NaN       Reg          Lvl  ...         0     NaN    NaN          NaN   \n",
      "4   NaN       IR1          Lvl  ...         0     NaN  MnPrv          NaN   \n",
      "\n",
      "  Misc Val Mo Sold Yr Sold Sale Type  Sale Condition  SalePrice  \n",
      "0        0       5    2010       WD           Normal     215000  \n",
      "1        0       6    2010       WD           Normal     105000  \n",
      "2    12500       6    2010       WD           Normal     172000  \n",
      "3        0       4    2010       WD           Normal     244000  \n",
      "4        0       3    2010       WD           Normal     189900  \n",
      "\n",
      "[5 rows x 82 columns]\n"
     ]
    }
   ],
   "source": [
    "data = pd.read_csv('AmesHousing.tsv', delimiter=\"\\t\")\n",
    "print(data.shape,data.columns)\n",
    "print(data.head(5))"
   ]
  },
  {
   "cell_type": "markdown",
   "metadata": {},
   "source": [
    "# Step 2: Model with Simplest Tranform, Select, Train & Test functions\n",
    "Build the model with the simplest algorithms and see what the outcome looks like"
   ]
  },
  {
   "cell_type": "code",
   "execution_count": 3,
   "metadata": {},
   "outputs": [
    {
     "data": {
      "text/plain": [
       "57088.25161263909"
      ]
     },
     "execution_count": 3,
     "metadata": {},
     "output_type": "execute_result"
    }
   ],
   "source": [
    "#First, just set up the functions with very simple commands. \n",
    "#Will keep updating those functins as we explore the data more and more\n",
    "\n",
    "def transform_features(df):\n",
    "    return df\n",
    "\n",
    "def select_features(df):\n",
    "    return df[[\"Gr Liv Area\", \"SalePrice\"]]\n",
    "\n",
    "def train_and_test(df):  \n",
    "    train = df[:1460]\n",
    "    test = df[1460:]\n",
    "    \n",
    "    ## You can use `pd.DataFrame.select_dtypes()` to specify column types\n",
    "    ## and return only those columns as a data frame.\n",
    "    numeric_train = train.select_dtypes(include=['integer', 'float'])\n",
    "    numeric_test = test.select_dtypes(include=['integer', 'float'])\n",
    "    \n",
    "    ## You can use `pd.Series.drop()` to drop a value.\n",
    "    features = numeric_train.columns.drop(\"SalePrice\")\n",
    "    lr = LinearRegression()\n",
    "    lr.fit(train[features], train[\"SalePrice\"])\n",
    "    predictions = lr.predict(test[features])\n",
    "    mse = mean_squared_error(test[\"SalePrice\"], predictions)\n",
    "    rmse = np.sqrt(mse)\n",
    "    \n",
    "    return rmse\n",
    "\n",
    "transform_df = transform_features(data)\n",
    "filtered_df = select_features(transform_df)\n",
    "rmse = train_and_test(filtered_df)\n",
    "\n",
    "rmse"
   ]
  },
  {
   "cell_type": "markdown",
   "metadata": {},
   "source": [
    "The RMSE from this simple model is quite large"
   ]
  },
  {
   "cell_type": "markdown",
   "metadata": {},
   "source": [
    "# Step 3: Explore How the Data Can Be Tranformed"
   ]
  },
  {
   "cell_type": "markdown",
   "metadata": {},
   "source": [
    "3.1: Add additional helpful columns, drop the ones not useful"
   ]
  },
  {
   "cell_type": "code",
   "execution_count": 4,
   "metadata": {},
   "outputs": [
    {
     "name": "stdout",
     "output_type": "stream",
     "text": [
      "      Order        PID  MS SubClass MS Zoning  Lot Frontage  Lot Area Street  \\\n",
      "1702   1703  528120010           60        RL         134.0     16659   Pave   \n",
      "2180   2181  908154195           20        RL         128.0     39290   Pave   \n",
      "2181   2182  908154205           60        RL         130.0     40094   Pave   \n",
      "\n",
      "     Alley Lot Shape Land Contour  ... Fence Misc Feature Misc Val Mo Sold  \\\n",
      "1702   NaN       IR1          Lvl  ...   NaN          NaN        0       6   \n",
      "2180   NaN       IR1          Bnk  ...   NaN         Elev    17000      10   \n",
      "2181   NaN       IR1          Bnk  ...   NaN          NaN        0      10   \n",
      "\n",
      "     Yr Sold Sale Type Sale Condition SalePrice  Yrs Since Built  \\\n",
      "1702    2007       New        Partial    260116                0   \n",
      "2180    2007       New        Partial    183850               -1   \n",
      "2181    2007       New        Partial    184750                0   \n",
      "\n",
      "      Yrs Since Remod  \n",
      "1702               -1  \n",
      "2180               -2  \n",
      "2181               -1  \n",
      "\n",
      "[3 rows x 84 columns]\n",
      "(2927, 76)\n"
     ]
    }
   ],
   "source": [
    "#create a few additional useful variables\n",
    "data['Yrs Since Built'] = data['Yr Sold'] - data['Year Built']\n",
    "data['Yrs Since Remod'] = data['Yr Sold'] - data['Year Remod/Add']\n",
    "\n",
    "#check to see if there are records with data['Yrs Since Built']<0\n",
    "#or records with data[Years Since Remod']<0\n",
    "print(data[(data['Yrs Since Built']<0) | (data['Yrs Since Remod']<0)])\n",
    "\n",
    "#Drop records with data['Yrs Since Built']<0 or data[Years Since Remod']<0\n",
    "data_clean = data.drop(data[(data['Yrs Since Built']<0) | (data['Yrs Since Remod']<0)].index.values, axis=0)\n",
    "\n",
    "#No longer need Year built and Year Remod/Add columns\n",
    "#Drop columns not useful or leaks information about the sale\n",
    "#Also drop columns not useful  \n",
    "data_clean.drop(['Year Built','Year Remod/Add','Yr Sold','Mo Sold','Sale Type','Sale Condition','PID','Order'], axis=1, inplace = True)\n",
    "print(data_clean.shape)\n"
   ]
  },
  {
   "cell_type": "markdown",
   "metadata": {},
   "source": [
    "3.2: Look into columns with null values, the ones with too many nulls should be dropped, the ones with 0%-5% nulls can be fixed"
   ]
  },
  {
   "cell_type": "code",
   "execution_count": 5,
   "metadata": {},
   "outputs": [
    {
     "name": "stdout",
     "output_type": "stream",
     "text": [
      "Pool QC           99.453925\n",
      "Misc Feature      96.313993\n",
      "Alley             93.139932\n",
      "Fence             80.375427\n",
      "Fireplace Qu      48.532423\n",
      "Lot Frontage      16.723549\n",
      "Garage Yr Blt      5.426621\n",
      "Garage Qual        5.426621\n",
      "Garage Cond        5.426621\n",
      "Garage Finish      5.426621\n",
      "Garage Type        5.358362\n",
      "Bsmt Exposure      2.832765\n",
      "BsmtFin Type 2     2.764505\n",
      "BsmtFin Type 1     2.730375\n",
      "Bsmt Cond          2.730375\n",
      "dtype: float64\n",
      "{'Bsmt Exposure': 'No', 'BsmtFin Type 2': 'Unf', 'BsmtFin Type 1': 'GLQ', 'Bsmt Cond': 'TA', 'Bsmt Qual': 'TA', 'Mas Vnr Type': 'None', 'Mas Vnr Area': 0.0, 'Bsmt Half Bath': 0.0, 'Bsmt Full Bath': 0.0, 'Garage Cars': 2.0, 'Total Bsmt SF': 0.0, 'Bsmt Unf SF': 0.0, 'BsmtFin SF 2': 0.0, 'Electrical': 'SBrkr', 'BsmtFin SF 1': 0.0, 'Garage Area': 0.0}\n",
      "Yrs Since Remod    0.0\n",
      "BsmtFin SF 2       0.0\n",
      "BsmtFin SF 1       0.0\n",
      "BsmtFin Type 1     0.0\n",
      "Bsmt Exposure      0.0\n",
      "Bsmt Cond          0.0\n",
      "Bsmt Qual          0.0\n",
      "Foundation         0.0\n",
      "Exter Cond         0.0\n",
      "Exter Qual         0.0\n",
      "Mas Vnr Area       0.0\n",
      "Mas Vnr Type       0.0\n",
      "Exterior 2nd       0.0\n",
      "Exterior 1st       0.0\n",
      "Roof Matl          0.0\n",
      "dtype: float64\n",
      "(2927, 65)\n"
     ]
    }
   ],
   "source": [
    "#Check nulls:\n",
    "null_check = data_clean.isnull().sum().sort_values(ascending = False)/len(data)*100\n",
    "    \n",
    "#fill in null values for columns with <=5% null value with most frequent values\n",
    "null_fill =  null_check[(null_check <5) & (null_check>0)]\n",
    "print(null_check.head(15))\n",
    "values = {}\n",
    "for i in null_fill.index:\n",
    "    values[i] = data_clean[i].mode()[0]\n",
    "print(values)\n",
    "data_clean.fillna(value=values, inplace = True)\n",
    "\n",
    "#drop columns with >5% null values:\n",
    "null_drop =  null_check[null_check >5]\n",
    "data_clean.drop(null_drop.index, axis=1, inplace=True)\n",
    "\n",
    "#Check to make sure that columns with <=5% null value are replaced with most frequent values\n",
    "print(data_clean.isnull().sum().sort_values(ascending = False).head(15)/len(data)*100)\n",
    "print(data_clean.shape)"
   ]
  },
  {
   "cell_type": "markdown",
   "metadata": {},
   "source": [
    "3.3: Now update transform_features functions with the steps developed from the previous 2 analysis"
   ]
  },
  {
   "cell_type": "code",
   "execution_count": 6,
   "metadata": {},
   "outputs": [],
   "source": [
    "def transform_features(data):\n",
    "    #create a few additional useful variables\n",
    "    data['Yrs Since Built'] = data['Yr Sold'] - data['Year Built']\n",
    "    data['Yrs Since Remod'] = data['Yr Sold'] - data['Year Remod/Add']\n",
    "\n",
    "    #Drop records with data['Yrs Since Built']<0 or data[Years Since Remod']<0\n",
    "    data_clean = data.drop(data[(data['Yrs Since Built']<0) | (data['Yrs Since Remod']<0)].index.values, axis=0)\n",
    "\n",
    "    #No longer need Year built and Year Remod/Add columns\n",
    "    #Drop columns not useful or leaks information about the sale\n",
    "    #Also drop columns not useful  \n",
    "    data_clean.drop(['Year Built','Year Remod/Add','Yr Sold','Mo Sold','Sale Type','Sale Condition','PID','Order'], axis=1, inplace = True)\n",
    "\n",
    "    #Check nulls:\n",
    "    null_check = data_clean.isnull().sum().sort_values(ascending = False)/len(data)*100\n",
    "    \n",
    "    #fill in null values for columns with <=5% null value with most frequent values\n",
    "    null_fill =  null_check[(null_check <5) & (null_check>0)]\n",
    "    values = {}\n",
    "    for i in null_fill.index:\n",
    "        values[i] = data_clean[i].mode()[0]\n",
    "    data_clean.fillna(value=values, inplace = True)\n",
    "\n",
    "    #drop columns with >5% null values:\n",
    "    null_drop =  null_check[null_check >5]\n",
    "    data_clean.drop(null_drop.index, axis=1, inplace=True)\n",
    "    \n",
    "    return data_clean"
   ]
  },
  {
   "cell_type": "markdown",
   "metadata": {},
   "source": [
    "# Step 4: Explore and Find Out How to Best Select Features"
   ]
  },
  {
   "cell_type": "markdown",
   "metadata": {},
   "source": [
    "4.1: Look into correlations among numerical columns "
   ]
  },
  {
   "cell_type": "code",
   "execution_count": 7,
   "metadata": {
    "scrolled": true
   },
   "outputs": [
    {
     "name": "stdout",
     "output_type": "stream",
     "text": [
      "SalePrice          1.000000\n",
      "Overall Qual       0.801206\n",
      "Gr Liv Area        0.717596\n",
      "Garage Cars        0.648361\n",
      "Total Bsmt SF      0.644012\n",
      "Garage Area        0.641425\n",
      "1st Flr SF         0.635185\n",
      "Yrs Since Built    0.558979\n",
      "Full Bath          0.546118\n",
      "Yrs Since Remod    0.534985\n",
      "Mas Vnr Area       0.506983\n",
      "TotRms AbvGrd      0.498574\n",
      "Fireplaces         0.474831\n",
      "BsmtFin SF 1       0.439284\n",
      "Wood Deck SF       0.328183\n",
      "Open Porch SF      0.316262\n",
      "Half Bath          0.284871\n",
      "Bsmt Full Bath     0.276258\n",
      "2nd Flr SF         0.269601\n",
      "Lot Area           0.267520\n",
      "Bsmt Unf SF        0.182751\n",
      "Bedroom AbvGr      0.143916\n",
      "Enclosed Porch     0.128685\n",
      "Kitchen AbvGr      0.119760\n",
      "Screen Porch       0.112280\n",
      "Overall Cond       0.101540\n",
      "MS SubClass        0.085128\n",
      "Pool Area          0.068438\n",
      "Low Qual Fin SF    0.037629\n",
      "Bsmt Half Bath     0.035875\n",
      "3Ssn Porch         0.032268\n",
      "Misc Val           0.019273\n",
      "BsmtFin SF 2       0.006127\n",
      "Name: SalePrice, dtype: float64 (33,)\n",
      "AxesSubplot(0.125,0.125;0.62x0.755)\n"
     ]
    },
    {
     "data": {
      "image/png": "[encoded data removed]",
      "text/plain": [
       "<Figure size 432x288 with 2 Axes>"
      ]
     },
     "metadata": {
      "needs_background": "light"
     },
     "output_type": "display_data"
    }
   ],
   "source": [
    "data_clean = transform_features(data)\n",
    "\n",
    "#Check how strongly each variable is correlated to SalePrice\n",
    "corr_vals = data_clean.corr()['SalePrice'].abs().sort_values(ascending=False)\n",
    "print(corr_vals.head(100), corr_vals.shape)\n",
    "\n",
    "#Usig 0.3 as a threshold, the ones above 0.3 are considered strongly correlated\n",
    "num_strong_corrs = corr_vals[corr_vals>0.3]\n",
    "\n",
    "#Use the heatmap to check how strongly the variables with strong correlations to SalePrice are related to each other. \n",
    "corrmat = data_clean[num_strong_corrs.index].corr().abs()\n",
    "print(sns.heatmap(corrmat))\n"
   ]
  },
  {
   "cell_type": "code",
   "execution_count": 8,
   "metadata": {},
   "outputs": [
    {
     "name": "stdout",
     "output_type": "stream",
     "text": [
      "(2927, 13)\n"
     ]
    }
   ],
   "source": [
    "#Those pairs have strong correlations:\n",
    "#TotRmsAbvGrd and Gr Liv Area, \n",
    "#Garage Cars and Garage Area, \n",
    "#1st Flr SF and Total Bsmt SF,\n",
    "#Each pair reflects very similar information. Let's only keep the ones capture more nuance in the pair. \n",
    "data_num_str_corr = data_clean[num_strong_corrs.index].drop(['TotRms AbvGrd', 'Garage Cars', 'Total Bsmt SF'], axis=1)\n",
    "print(data_num_str_corr.shape)"
   ]
  },
  {
   "cell_type": "markdown",
   "metadata": {},
   "source": [
    "4.2: Look into variabilities of each numerical column \n",
    "     #Note: Variables with low variabilty do not add value to the model."
   ]
  },
  {
   "cell_type": "code",
   "execution_count": 9,
   "metadata": {},
   "outputs": [
    {
     "name": "stdout",
     "output_type": "stream",
     "text": [
      "BsmtFin SF 1       0.006348\n",
      "1st Flr SF         0.007742\n",
      "Wood Deck SF       0.007844\n",
      "Open Porch SF      0.008018\n",
      "Gr Liv Area        0.008794\n",
      "SalePrice          0.011593\n",
      "Mas Vnr Area       0.012250\n",
      "Full Bath          0.019077\n",
      "Garage Area        0.020827\n",
      "Overall Qual       0.024461\n",
      "Fireplaces         0.026216\n",
      "Yrs Since Built    0.049585\n",
      "Yrs Since Remod    0.120806\n",
      "dtype: float64\n",
      "(2927, 10)\n"
     ]
    }
   ],
   "source": [
    "data_num_rescale = (data_num_str_corr-data_num_str_corr.min())/(data_num_str_corr.max() - data_num_str_corr.min())\n",
    "sorted_vars = data_num_rescale.var().sort_values()\n",
    "print(sorted_vars)\n",
    "strong_var_features = sorted_vars[sorted_vars>0.008].index\n",
    "data_num_str_var = data_num_str_corr[strong_var_features]\n",
    "print(data_num_str_var.shape)"
   ]
  },
  {
   "cell_type": "markdown",
   "metadata": {},
   "source": [
    "4.3: Look into the variabilties of the categorical columns. \n",
    "     #Note: variables with low variabilty do not add value to the model."
   ]
  },
  {
   "cell_type": "code",
   "execution_count": 10,
   "metadata": {},
   "outputs": [
    {
     "name": "stdout",
     "output_type": "stream",
     "text": [
      "(2927, 32) Index(['MS Zoning', 'Street', 'Lot Shape', 'Land Contour', 'Utilities',\n",
      "       'Lot Config', 'Land Slope', 'Neighborhood', 'Condition 1',\n",
      "       'Condition 2', 'Bldg Type', 'House Style', 'Roof Style', 'Roof Matl',\n",
      "       'Exterior 1st', 'Exterior 2nd', 'Mas Vnr Type', 'Exter Qual',\n",
      "       'Exter Cond', 'Foundation', 'Bsmt Qual', 'Bsmt Cond', 'Bsmt Exposure',\n",
      "       'BsmtFin Type 1', 'BsmtFin Type 2', 'Heating', 'Heating QC',\n",
      "       'Central Air', 'Electrical', 'Kitchen Qual', 'Functional',\n",
      "       'Paved Drive'],\n",
      "      dtype='object')   MS Zoning Street Lot Shape Land Contour Utilities Lot Config Land Slope  \\\n",
      "0        RL   Pave       IR1          Lvl    AllPub     Corner        Gtl   \n",
      "1        RH   Pave       Reg          Lvl    AllPub     Inside        Gtl   \n",
      "2        RL   Pave       IR1          Lvl    AllPub     Corner        Gtl   \n",
      "3        RL   Pave       Reg          Lvl    AllPub     Corner        Gtl   \n",
      "4        RL   Pave       IR1          Lvl    AllPub     Inside        Gtl   \n",
      "\n",
      "  Neighborhood Condition 1 Condition 2  ... Bsmt Exposure BsmtFin Type 1  \\\n",
      "0        NAmes        Norm        Norm  ...            Gd            BLQ   \n",
      "1        NAmes       Feedr        Norm  ...            No            Rec   \n",
      "2        NAmes        Norm        Norm  ...            No            ALQ   \n",
      "3        NAmes        Norm        Norm  ...            No            ALQ   \n",
      "4      Gilbert        Norm        Norm  ...            No            GLQ   \n",
      "\n",
      "  BsmtFin Type 2 Heating Heating QC Central Air Electrical Kitchen Qual  \\\n",
      "0            Unf    GasA         Fa           Y      SBrkr           TA   \n",
      "1            LwQ    GasA         TA           Y      SBrkr           TA   \n",
      "2            Unf    GasA         TA           Y      SBrkr           Gd   \n",
      "3            Unf    GasA         Ex           Y      SBrkr           Ex   \n",
      "4            Unf    GasA         Gd           Y      SBrkr           TA   \n",
      "\n",
      "  Functional Paved Drive  \n",
      "0        Typ           P  \n",
      "1        Typ           Y  \n",
      "2        Typ           Y  \n",
      "3        Typ           Y  \n",
      "4        Typ           Y  \n",
      "\n",
      "[5 rows x 32 columns]\n",
      "Neighborhood    28\n",
      "Exterior 2nd    17\n",
      "Exterior 1st    16\n",
      "Condition 1      9\n",
      "Functional       8\n",
      "Condition 2      8\n",
      "House Style      8\n",
      "Roof Matl        8\n",
      "MS Zoning        7\n",
      "Foundation       6\n",
      "dtype: int64\n",
      "Pave    99.590024\n",
      "Grvl     0.409976\n",
      "Name: Street, dtype: float64\n",
      "AllPub    99.897506\n",
      "NoSewr     0.068329\n",
      "NoSeWa     0.034165\n",
      "Name: Utilities, dtype: float64\n",
      "Gtl    95.182781\n",
      "Mod     4.270584\n",
      "Sev     0.546635\n",
      "Name: Land Slope, dtype: float64\n",
      "Norm      99.009224\n",
      "Feedr      0.444141\n",
      "Artery     0.170823\n",
      "PosA       0.136659\n",
      "PosN       0.102494\n",
      "RRNn       0.068329\n",
      "RRAn       0.034165\n",
      "RRAe       0.034165\n",
      "Name: Condition 2, dtype: float64\n",
      "CompShg    98.530919\n",
      "Tar&Grv     0.785787\n",
      "WdShake     0.307482\n",
      "WdShngl     0.239153\n",
      "Metal       0.034165\n",
      "ClyTile     0.034165\n",
      "Membran     0.034165\n",
      "Roll        0.034165\n",
      "Name: Roof Matl, dtype: float64\n",
      "GasA     98.462590\n",
      "GasW      0.922446\n",
      "Grav      0.307482\n",
      "Wall      0.204988\n",
      "OthW      0.068329\n",
      "Floor     0.034165\n",
      "Name: Heating, dtype: float64\n",
      "['Street', 'Utilities', 'Land Slope', 'Condition 2', 'Roof Matl', 'Heating']\n"
     ]
    }
   ],
   "source": [
    "#Quick exploration of the non-numeric columns. Quick look at how many there are, and what kind of information is in there.\n",
    "data_object = data_clean.select_dtypes(exclude = 'number')\n",
    "print(data_object.shape, data_object.columns, data_object.head())\n",
    "print(data_object.nunique().sort_values(ascending = False).head(10))\n",
    "\n",
    "#This is variability test. It looks into distributions of each non-numerical column, and see how much variability\n",
    "#there is. The logic is: for a particular column, if we have 95% of records concentrated on one particular value \n",
    "#in the distribution, then we consider this column low variability.\n",
    "\n",
    "low_var_cols = []\n",
    "for i in data_object.columns:\n",
    "    var_check = data_object[i].value_counts(normalize = True)*100\n",
    "    low_var = var_check[var_check > 95]\n",
    "    if len(low_var) > 0:\n",
    "        low_var_cols.append(i)\n",
    "\n",
    "for i in low_var_cols:\n",
    "    print(data_object[i].value_counts(normalize = True)*100)\n",
    "\n",
    "print(low_var_cols)"
   ]
  },
  {
   "cell_type": "markdown",
   "metadata": {},
   "source": [
    "From the last output in the previous step, those columns are labeled as low variability: \n",
    "'Street', 'Utilities', 'Land Slope', 'Condition 2', 'Roof Matl', 'Heating'. \n",
    "Take 'Utilities' as an example, 99.9% of homes in the data have AllPub utilities. Therefore this column does will really distinguish the record and does not add value to the model. \n",
    "We will go ahead and remove all the columns with low variability"
   ]
  },
  {
   "cell_type": "code",
   "execution_count": 11,
   "metadata": {},
   "outputs": [
    {
     "name": "stdout",
     "output_type": "stream",
     "text": [
      "(2927, 26)\n",
      "Index(['MS Zoning', 'Lot Shape', 'Land Contour', 'Lot Config', 'Neighborhood',\n",
      "       'Condition 1', 'Bldg Type', 'House Style', 'Roof Style', 'Exterior 1st',\n",
      "       'Exterior 2nd', 'Mas Vnr Type', 'Exter Qual', 'Exter Cond',\n",
      "       'Foundation', 'Bsmt Qual', 'Bsmt Cond', 'Bsmt Exposure',\n",
      "       'BsmtFin Type 1', 'BsmtFin Type 2', 'Heating QC', 'Central Air',\n",
      "       'Electrical', 'Kitchen Qual', 'Functional', 'Paved Drive'],\n",
      "      dtype='object')\n"
     ]
    }
   ],
   "source": [
    "data_object_high_var = data_object.drop(['Street', 'Utilities', 'Land Slope', 'Condition 2', \n",
    "                                         'Roof Matl', 'Heating'], axis =1)\n",
    "print(data_object_high_var.shape)\n",
    "print(data_object_high_var.columns)"
   ]
  },
  {
   "cell_type": "code",
   "execution_count": 12,
   "metadata": {},
   "outputs": [
    {
     "name": "stdout",
     "output_type": "stream",
     "text": [
      "   Open Porch SF  Gr Liv Area  SalePrice  Mas Vnr Area  Full Bath  \\\n",
      "0             62         1656     215000         112.0          1   \n",
      "1              0          896     105000           0.0          1   \n",
      "2             36         1329     172000         108.0          1   \n",
      "3              0         2110     244000           0.0          2   \n",
      "4             34         1629     189900           0.0          2   \n",
      "\n",
      "   Garage Area  Overall Qual  Fireplaces  Yrs Since Built  Yrs Since Remod  \\\n",
      "0        528.0             6           2               50               50   \n",
      "1        730.0             5           0               49               49   \n",
      "2        312.0             6           0               52               52   \n",
      "3        522.0             7           2               42               42   \n",
      "4        482.0             5           1               13               12   \n",
      "\n",
      "   ...  Functional_Maj2  Functional_Min1  Functional_Min2  Functional_Mod  \\\n",
      "0  ...                0                0                0               0   \n",
      "1  ...                0                0                0               0   \n",
      "2  ...                0                0                0               0   \n",
      "3  ...                0                0                0               0   \n",
      "4  ...                0                0                0               0   \n",
      "\n",
      "   Functional_Sal  Functional_Sev  Functional_Typ  Paved Drive_N  \\\n",
      "0               0               0               1              0   \n",
      "1               0               0               1              0   \n",
      "2               0               0               1              0   \n",
      "3               0               0               1              0   \n",
      "4               0               0               1              0   \n",
      "\n",
      "   Paved Drive_P  Paved Drive_Y  \n",
      "0              1              0  \n",
      "1              0              1  \n",
      "2              0              1  \n",
      "3              0              1  \n",
      "4              0              1  \n",
      "\n",
      "[5 rows x 193 columns]\n",
      "Index(['Open Porch SF', 'Gr Liv Area', 'SalePrice', 'Mas Vnr Area',\n",
      "       'Full Bath', 'Garage Area', 'Overall Qual', 'Fireplaces',\n",
      "       'Yrs Since Built', 'Yrs Since Remod',\n",
      "       ...\n",
      "       'Functional_Maj2', 'Functional_Min1', 'Functional_Min2',\n",
      "       'Functional_Mod', 'Functional_Sal', 'Functional_Sev', 'Functional_Typ',\n",
      "       'Paved Drive_N', 'Paved Drive_P', 'Paved Drive_Y'],\n",
      "      dtype='object', length=193)\n"
     ]
    }
   ],
   "source": [
    "#Now we are gonig to use one hot encoder to tranform the categorical columns, and then combine it with the sub dataset\n",
    "#with only numerical columns from step 4.2\n",
    "for col in data_object_high_var.columns:\n",
    "        data_object_high_var[col] = data_object_high_var[col].astype('category')\n",
    "\n",
    "data_combined = pd.concat([data_num_str_var, pd.get_dummies(data_object_high_var)], axis=1)\n",
    "\n",
    "print(data_combined.head(5))\n",
    "print(data_combined.columns)"
   ]
  },
  {
   "cell_type": "markdown",
   "metadata": {},
   "source": [
    "4.4: Update select_features function with the steps developed from previous analysis"
   ]
  },
  {
   "cell_type": "code",
   "execution_count": 13,
   "metadata": {},
   "outputs": [],
   "source": [
    "def select_features(data_clean):\n",
    "\n",
    "    #Check how strongly each variable is correlated to SalePrice\n",
    "    corr_vals = data_clean.corr()['SalePrice'].abs().sort_values(ascending=False)\n",
    "\n",
    "    #Usig 0.3 as a threshold, the ones above 0.3 are considered strongly correlated\n",
    "    num_strong_corrs = corr_vals[corr_vals>0.3]\n",
    "\n",
    "    #Use the heatmap to check how strongly the variables with strong correlations to SalePrice are related to each other. \n",
    "    corrmat = data_clean[num_strong_corrs.index].corr().abs()\n",
    "\n",
    "    #Those pairs have strong correlations:\n",
    "    #TotRmsAbvGrd and Gr Liv Area, \n",
    "    #Garage Cars and Garage Area, \n",
    "    #1st Flr SF and Total Bsmt SF,\n",
    "    #Each pair reflects very similar information. Let's only keep the ones capture more nuance in the pair. \n",
    "    data_num_str_corr = data_clean[num_strong_corrs.index].drop(['TotRms AbvGrd', 'Garage Cars', 'Total Bsmt SF'], axis=1)\n",
    "\n",
    "    data_num_rescale = (data_num_str_corr-data_num_str_corr.min())/(data_num_str_corr.max() - data_num_str_corr.min())\n",
    "    sorted_vars = data_num_rescale.var().sort_values()\n",
    "\n",
    "    strong_var_features = sorted_vars[sorted_vars>0.008].index\n",
    "    data_num_str_var = data_num_str_corr[strong_var_features]\n",
    "\n",
    "    #Quick exploration of the non-numeric columns. Quick look at how many there are, and what kind of information is in there.\n",
    "    data_object = data_clean.select_dtypes(exclude='number')\n",
    "\n",
    "    #This is variability test. It looks into distributions of each non-numerical column, and see how much variability\n",
    "    #there is. The logic is: for a particular column, if we have 95% of records concentrated on one particular value \n",
    "    #in the distribution, then we consider this column low variability.\n",
    "\n",
    "    low_var_cols = []\n",
    "    for i in data_object.columns:\n",
    "        var_check = data_object[i].value_counts(normalize = True)*100\n",
    "        low_var = var_check[var_check>95]\n",
    "        if len(low_var)>0:\n",
    "            low_var_cols.append(i)\n",
    "\n",
    "\n",
    "    data_object_high_var = data_object.drop(['Street', 'Utilities', 'Land Slope', 'Condition 2', \n",
    "                                         'Roof Matl', 'Heating'], axis =1)\n",
    "\n",
    "    #Now we are gonig to use one hot encoder to tranform the categorical columns, and then combine it with the sub dataset\n",
    "    #with only numerical columns from step 4.2\n",
    "    for col in data_object_high_var.columns:\n",
    "            data_object_high_var[col] = data_object_high_var[col].astype('category')\n",
    "\n",
    "    data_combined = pd.concat([data_num_str_var, pd.get_dummies(data_object_high_var)], axis=1)\n",
    "\n",
    "    return data_combined"
   ]
  },
  {
   "cell_type": "markdown",
   "metadata": {},
   "source": [
    "# Step 5: Explore Different Ways to Train and Test"
   ]
  },
  {
   "cell_type": "markdown",
   "metadata": {},
   "source": [
    "Write out the train and test functions. Since k folder has restriction of k>=2, we will write \n",
    "out how to split the data ourselves for k=0 and k=1.\n",
    "Then for k>=2 we implement K fold method."
   ]
  },
  {
   "cell_type": "code",
   "execution_count": 14,
   "metadata": {},
   "outputs": [],
   "source": [
    "def train_and_test(df, k):\n",
    "\n",
    "    if k==0:\n",
    "        #Get data split into train and test, get feature dataset and target dataset\n",
    "        train = df[0:1460]\n",
    "        test = df[1460:]\n",
    "        train_features = train.drop(['SalePrice'], axis=1)\n",
    "        train_target = train['SalePrice']\n",
    "        test_features = test.drop(['SalePrice'], axis=1)\n",
    "        test_target = test['SalePrice']\n",
    "    \n",
    "        #build the linear regresssion model, fit, predict then calcualte rmse                          \n",
    "        model = LinearRegression()\n",
    "        model.fit(train_features, train_target)\n",
    "        test_predictions = model.predict(test_features)\n",
    "        test_rmse = mean_squared_error(test_predictions, test_target)**(1/2)\n",
    "        \n",
    "    if k==1:\n",
    "        #Get data split into train and test, get feature dataset and target dataset\n",
    "        df_shuffle = df.sample(frac=1)\n",
    "        fold_one = df_shuffle[0:1460]\n",
    "        fold_two = df_shuffle[1460:]\n",
    "        fold_one_features = fold_one.drop(['SalePrice'], axis=1)\n",
    "        fold_one_target = fold_one['SalePrice']\n",
    "        fold_two_features = fold_two.drop(['SalePrice'], axis=1)\n",
    "        fold_two_target = fold_two['SalePrice']\n",
    "    \n",
    "        #build the linear regresssion model, fit, predict then calcualte rmse                          \n",
    "        model = LinearRegression()\n",
    "        #train on fold one, test on fold two\n",
    "        model.fit(fold_one_features, fold_one_target)\n",
    "        fold_two_predictions = model.predict(fold_two_features)\n",
    "        fold_two_rmse = mean_squared_error(fold_two_predictions, fold_two_target)**(1/2)\n",
    "        \n",
    "        model.fit(fold_two_features, fold_two_target)\n",
    "        fold_one_predictions = model.predict(fold_one_features)\n",
    "        fold_one_rmse = mean_squared_error(fold_one_predictions, fold_one_target)**(1/2)\n",
    "        \n",
    "        test_rmse = np.mean([fold_two_rmse, fold_one_rmse])\n",
    "    \n",
    "    if k>=2:\n",
    "        kf = KFold(k, True, 1)\n",
    "        model = LinearRegression()\n",
    "        mses = cross_val_score(model, df.drop('SalePrice', axis=1), df['SalePrice'], \n",
    "                               scoring = 'neg_mean_squared_error', cv = kf)\n",
    "        test_rmse = np.mean(np.sqrt(np.absolute(mses)))\n",
    "\n",
    "    return test_rmse"
   ]
  },
  {
   "cell_type": "markdown",
   "metadata": {},
   "source": [
    "# Step 6: Call All the Functions to Go Through Entire Modeling Process"
   ]
  },
  {
   "cell_type": "code",
   "execution_count": 15,
   "metadata": {},
   "outputs": [
    {
     "name": "stdout",
     "output_type": "stream",
     "text": [
      "28887.480598022597\n",
      "27439.94059298111\n",
      "26754.27898916375\n"
     ]
    }
   ],
   "source": [
    "data_clean = transform_features(data)\n",
    "data_selected = select_features(data_clean)\n",
    "\n",
    "#This one is based on simple train test split without shuffling\n",
    "output_rmse_0 = train_and_test(data_selected, 0)\n",
    "print(output_rmse_0)\n",
    "\n",
    "#This one is based on simple train test split with shuffling, and results are cross validated\n",
    "output_rmse_1 = train_and_test(data_selected, 1)\n",
    "print(output_rmse_1)\n",
    "\n",
    "#This one split data into 4 folds with shuffling, and results are cross validated\n",
    "output_rmse_4 = train_and_test(data_selected, 4)\n",
    "print(output_rmse_4)"
   ]
  },
  {
   "cell_type": "code",
   "execution_count": null,
   "metadata": {},
   "outputs": [],
   "source": []
  }
 ],
 "metadata": {
  "kernelspec": {
   "display_name": "Python 3",
   "language": "python",
   "name": "python3"
  },
  "language_info": {
   "codemirror_mode": {
    "name": "ipython",
    "version": 3
   },
   "file_extension": ".py",
   "mimetype": "text/x-python",
   "name": "python",
   "nbconvert_exporter": "python",
   "pygments_lexer": "ipython3",
   "version": "3.7.3"
  }
 },
 "nbformat": 4,
 "nbformat_minor": 2
}
